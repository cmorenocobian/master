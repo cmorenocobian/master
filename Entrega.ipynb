{
 "cells": [
  {
   "cell_type": "markdown",
   "id": "df01d85e",
   "metadata": {},
   "source": [
    "# Algoritmo para la localización de un nuevo Restaurante\n",
    "\n",
    "\n",
    "El objetivo de este proyecto es la elaboración de un flujo que permita obtener la información necesaria para, conocidos unos parámetros básicos, se pueda recomendar un local para el éxito de un nuevo restaurante en la ciudad de Madrid.\n",
    "\n",
    "El proceso consistirá en:\n",
    "\n",
    "1 - Recopilación de información\n",
    "\n",
    "    1.1.- Información de locales disponibles (idealista)\n",
    "    \n",
    "    1.2.- Información de restaurantes (tripadvisor)\n",
    "\n",
    "    1.3.- Información de restaurantes (el tenedor)\n",
    "    \n",
    "    1.3.- Información de ocupación de restaurantes (google)\n",
    "    \n",
    "2 - Limpieza de datasets\n",
    "\n",
    "3 - Unificación de datasets y reducción de features\n",
    "\n",
    "4 - Clustering"
   ]
  },
  {
   "cell_type": "code",
   "execution_count": 1,
   "id": "4d222d9c",
   "metadata": {},
   "outputs": [],
   "source": []
  },
  {
   "cell_type": "markdown",
   "id": "d7607d80",
   "metadata": {},
   "source": [
    "## Tripadvisor\n",
    "\n",
    "El primer paso consiste en extaer de este portal toda la información necesaria. El objetivo es recopilar los datos de los restaurantes de la web.\n",
    "El proceso consiste en buscar los restaurantes de Madrid\n",
    "\n",
    "\n",
    "\n",
    "El código que realiza el scraping de la página web, así como generar el dataset se encuentra [aquí](https://github.com/cmorenocobian/master/blob/545bcfa1dd668442234a990cd0bb550357d7ba4d/1.1%20tripadvisor_scrapy_01.py)"
   ]
  },
  {
   "cell_type": "code",
   "execution_count": null,
   "id": "a3aca78c",
   "metadata": {},
   "outputs": [],
   "source": []
  },
  {
   "cell_type": "code",
   "execution_count": null,
   "id": "1df1b332",
   "metadata": {},
   "outputs": [],
   "source": []
  },
  {
   "cell_type": "code",
   "execution_count": null,
   "id": "53d0c54f",
   "metadata": {},
   "outputs": [],
   "source": []
  },
  {
   "cell_type": "code",
   "execution_count": null,
   "id": "51d3f263",
   "metadata": {},
   "outputs": [],
   "source": []
  },
  {
   "cell_type": "code",
   "execution_count": null,
   "id": "c7a94924",
   "metadata": {},
   "outputs": [],
   "source": []
  },
  {
   "cell_type": "code",
   "execution_count": null,
   "id": "e3c1350e",
   "metadata": {},
   "outputs": [],
   "source": []
  }
 ],
 "metadata": {
  "kernelspec": {
   "display_name": "Python 3",
   "language": "python",
   "name": "python3"
  },
  "language_info": {
   "codemirror_mode": {
    "name": "ipython",
    "version": 3
   },
   "file_extension": ".py",
   "mimetype": "text/x-python",
   "name": "python",
   "nbconvert_exporter": "python",
   "pygments_lexer": "ipython3",
   "version": "3.7.10"
  }
 },
 "nbformat": 4,
 "nbformat_minor": 5
}
